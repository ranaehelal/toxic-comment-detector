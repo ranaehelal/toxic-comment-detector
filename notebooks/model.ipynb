{
  "nbformat": 4,
  "nbformat_minor": 0,
  "metadata": {
    "colab": {
      "provenance": []
    },
    "kernelspec": {
      "name": "python3",
      "display_name": "Python 3"
    },
    "language_info": {
      "name": "python"
    }
  },
  "cells": [
    {
      "cell_type": "code",
      "source": [
        "!pip install kagglehub\n",
        "!pip install emoji\n",
        "!pip install spacy\n",
        "!python -m spacy download en_core_web_sm"
      ],
      "metadata": {
        "colab": {
          "base_uri": "https://localhost:8080/"
        },
        "id": "IbgSaUqDKBIh",
        "outputId": "50ec24ee-f76c-45cb-ab71-8c188a472642"
      },
      "execution_count": 1,
      "outputs": [
        {
          "output_type": "stream",
          "name": "stdout",
          "text": [
            "Requirement already satisfied: kagglehub in /usr/local/lib/python3.11/dist-packages (0.3.12)\n",
            "Requirement already satisfied: packaging in /usr/local/lib/python3.11/dist-packages (from kagglehub) (24.2)\n",
            "Requirement already satisfied: pyyaml in /usr/local/lib/python3.11/dist-packages (from kagglehub) (6.0.2)\n",
            "Requirement already satisfied: requests in /usr/local/lib/python3.11/dist-packages (from kagglehub) (2.32.3)\n",
            "Requirement already satisfied: tqdm in /usr/local/lib/python3.11/dist-packages (from kagglehub) (4.67.1)\n",
            "Requirement already satisfied: charset-normalizer<4,>=2 in /usr/local/lib/python3.11/dist-packages (from requests->kagglehub) (3.4.2)\n",
            "Requirement already satisfied: idna<4,>=2.5 in /usr/local/lib/python3.11/dist-packages (from requests->kagglehub) (3.10)\n",
            "Requirement already satisfied: urllib3<3,>=1.21.1 in /usr/local/lib/python3.11/dist-packages (from requests->kagglehub) (2.4.0)\n",
            "Requirement already satisfied: certifi>=2017.4.17 in /usr/local/lib/python3.11/dist-packages (from requests->kagglehub) (2025.6.15)\n",
            "Collecting emoji\n",
            "  Downloading emoji-2.14.1-py3-none-any.whl.metadata (5.7 kB)\n",
            "Downloading emoji-2.14.1-py3-none-any.whl (590 kB)\n",
            "\u001b[2K   \u001b[90m━━━━━━━━━━━━━━━━━━━━━━━━━━━━━━━━━━━━━━━━\u001b[0m \u001b[32m590.6/590.6 kB\u001b[0m \u001b[31m8.2 MB/s\u001b[0m eta \u001b[36m0:00:00\u001b[0m\n",
            "\u001b[?25hInstalling collected packages: emoji\n",
            "Successfully installed emoji-2.14.1\n",
            "Requirement already satisfied: spacy in /usr/local/lib/python3.11/dist-packages (3.8.7)\n",
            "Requirement already satisfied: spacy-legacy<3.1.0,>=3.0.11 in /usr/local/lib/python3.11/dist-packages (from spacy) (3.0.12)\n",
            "Requirement already satisfied: spacy-loggers<2.0.0,>=1.0.0 in /usr/local/lib/python3.11/dist-packages (from spacy) (1.0.5)\n",
            "Requirement already satisfied: murmurhash<1.1.0,>=0.28.0 in /usr/local/lib/python3.11/dist-packages (from spacy) (1.0.13)\n",
            "Requirement already satisfied: cymem<2.1.0,>=2.0.2 in /usr/local/lib/python3.11/dist-packages (from spacy) (2.0.11)\n",
            "Requirement already satisfied: preshed<3.1.0,>=3.0.2 in /usr/local/lib/python3.11/dist-packages (from spacy) (3.0.10)\n",
            "Requirement already satisfied: thinc<8.4.0,>=8.3.4 in /usr/local/lib/python3.11/dist-packages (from spacy) (8.3.6)\n",
            "Requirement already satisfied: wasabi<1.2.0,>=0.9.1 in /usr/local/lib/python3.11/dist-packages (from spacy) (1.1.3)\n",
            "Requirement already satisfied: srsly<3.0.0,>=2.4.3 in /usr/local/lib/python3.11/dist-packages (from spacy) (2.5.1)\n",
            "Requirement already satisfied: catalogue<2.1.0,>=2.0.6 in /usr/local/lib/python3.11/dist-packages (from spacy) (2.0.10)\n",
            "Requirement already satisfied: weasel<0.5.0,>=0.1.0 in /usr/local/lib/python3.11/dist-packages (from spacy) (0.4.1)\n",
            "Requirement already satisfied: typer<1.0.0,>=0.3.0 in /usr/local/lib/python3.11/dist-packages (from spacy) (0.16.0)\n",
            "Requirement already satisfied: tqdm<5.0.0,>=4.38.0 in /usr/local/lib/python3.11/dist-packages (from spacy) (4.67.1)\n",
            "Requirement already satisfied: numpy>=1.19.0 in /usr/local/lib/python3.11/dist-packages (from spacy) (2.0.2)\n",
            "Requirement already satisfied: requests<3.0.0,>=2.13.0 in /usr/local/lib/python3.11/dist-packages (from spacy) (2.32.3)\n",
            "Requirement already satisfied: pydantic!=1.8,!=1.8.1,<3.0.0,>=1.7.4 in /usr/local/lib/python3.11/dist-packages (from spacy) (2.11.7)\n",
            "Requirement already satisfied: jinja2 in /usr/local/lib/python3.11/dist-packages (from spacy) (3.1.6)\n",
            "Requirement already satisfied: setuptools in /usr/local/lib/python3.11/dist-packages (from spacy) (75.2.0)\n",
            "Requirement already satisfied: packaging>=20.0 in /usr/local/lib/python3.11/dist-packages (from spacy) (24.2)\n",
            "Requirement already satisfied: langcodes<4.0.0,>=3.2.0 in /usr/local/lib/python3.11/dist-packages (from spacy) (3.5.0)\n",
            "Requirement already satisfied: language-data>=1.2 in /usr/local/lib/python3.11/dist-packages (from langcodes<4.0.0,>=3.2.0->spacy) (1.3.0)\n",
            "Requirement already satisfied: annotated-types>=0.6.0 in /usr/local/lib/python3.11/dist-packages (from pydantic!=1.8,!=1.8.1,<3.0.0,>=1.7.4->spacy) (0.7.0)\n",
            "Requirement already satisfied: pydantic-core==2.33.2 in /usr/local/lib/python3.11/dist-packages (from pydantic!=1.8,!=1.8.1,<3.0.0,>=1.7.4->spacy) (2.33.2)\n",
            "Requirement already satisfied: typing-extensions>=4.12.2 in /usr/local/lib/python3.11/dist-packages (from pydantic!=1.8,!=1.8.1,<3.0.0,>=1.7.4->spacy) (4.14.0)\n",
            "Requirement already satisfied: typing-inspection>=0.4.0 in /usr/local/lib/python3.11/dist-packages (from pydantic!=1.8,!=1.8.1,<3.0.0,>=1.7.4->spacy) (0.4.1)\n",
            "Requirement already satisfied: charset-normalizer<4,>=2 in /usr/local/lib/python3.11/dist-packages (from requests<3.0.0,>=2.13.0->spacy) (3.4.2)\n",
            "Requirement already satisfied: idna<4,>=2.5 in /usr/local/lib/python3.11/dist-packages (from requests<3.0.0,>=2.13.0->spacy) (3.10)\n",
            "Requirement already satisfied: urllib3<3,>=1.21.1 in /usr/local/lib/python3.11/dist-packages (from requests<3.0.0,>=2.13.0->spacy) (2.4.0)\n",
            "Requirement already satisfied: certifi>=2017.4.17 in /usr/local/lib/python3.11/dist-packages (from requests<3.0.0,>=2.13.0->spacy) (2025.6.15)\n",
            "Requirement already satisfied: blis<1.4.0,>=1.3.0 in /usr/local/lib/python3.11/dist-packages (from thinc<8.4.0,>=8.3.4->spacy) (1.3.0)\n",
            "Requirement already satisfied: confection<1.0.0,>=0.0.1 in /usr/local/lib/python3.11/dist-packages (from thinc<8.4.0,>=8.3.4->spacy) (0.1.5)\n",
            "Requirement already satisfied: click>=8.0.0 in /usr/local/lib/python3.11/dist-packages (from typer<1.0.0,>=0.3.0->spacy) (8.2.1)\n",
            "Requirement already satisfied: shellingham>=1.3.0 in /usr/local/lib/python3.11/dist-packages (from typer<1.0.0,>=0.3.0->spacy) (1.5.4)\n",
            "Requirement already satisfied: rich>=10.11.0 in /usr/local/lib/python3.11/dist-packages (from typer<1.0.0,>=0.3.0->spacy) (13.9.4)\n",
            "Requirement already satisfied: cloudpathlib<1.0.0,>=0.7.0 in /usr/local/lib/python3.11/dist-packages (from weasel<0.5.0,>=0.1.0->spacy) (0.21.1)\n",
            "Requirement already satisfied: smart-open<8.0.0,>=5.2.1 in /usr/local/lib/python3.11/dist-packages (from weasel<0.5.0,>=0.1.0->spacy) (7.3.0)\n",
            "Requirement already satisfied: MarkupSafe>=2.0 in /usr/local/lib/python3.11/dist-packages (from jinja2->spacy) (3.0.2)\n",
            "Requirement already satisfied: marisa-trie>=1.1.0 in /usr/local/lib/python3.11/dist-packages (from language-data>=1.2->langcodes<4.0.0,>=3.2.0->spacy) (1.2.1)\n",
            "Requirement already satisfied: markdown-it-py>=2.2.0 in /usr/local/lib/python3.11/dist-packages (from rich>=10.11.0->typer<1.0.0,>=0.3.0->spacy) (3.0.0)\n",
            "Requirement already satisfied: pygments<3.0.0,>=2.13.0 in /usr/local/lib/python3.11/dist-packages (from rich>=10.11.0->typer<1.0.0,>=0.3.0->spacy) (2.19.2)\n",
            "Requirement already satisfied: wrapt in /usr/local/lib/python3.11/dist-packages (from smart-open<8.0.0,>=5.2.1->weasel<0.5.0,>=0.1.0->spacy) (1.17.2)\n",
            "Requirement already satisfied: mdurl~=0.1 in /usr/local/lib/python3.11/dist-packages (from markdown-it-py>=2.2.0->rich>=10.11.0->typer<1.0.0,>=0.3.0->spacy) (0.1.2)\n",
            "Collecting en-core-web-sm==3.8.0\n",
            "  Downloading https://github.com/explosion/spacy-models/releases/download/en_core_web_sm-3.8.0/en_core_web_sm-3.8.0-py3-none-any.whl (12.8 MB)\n",
            "\u001b[2K     \u001b[90m━━━━━━━━━━━━━━━━━━━━━━━━━━━━━━━━━━━━━━━━\u001b[0m \u001b[32m12.8/12.8 MB\u001b[0m \u001b[31m95.9 MB/s\u001b[0m eta \u001b[36m0:00:00\u001b[0m\n",
            "\u001b[?25h\u001b[38;5;2m✔ Download and installation successful\u001b[0m\n",
            "You can now load the package via spacy.load('en_core_web_sm')\n",
            "\u001b[38;5;3m⚠ Restart to reload dependencies\u001b[0m\n",
            "If you are in a Jupyter or Colab notebook, you may need to restart Python in\n",
            "order to load all the package's dependencies. You can do this by selecting the\n",
            "'Restart kernel' or 'Restart runtime' option.\n"
          ]
        }
      ]
    },
    {
      "cell_type": "code",
      "source": [
        "\n",
        "import os\n",
        "import numpy as np\n",
        "import pandas as pd\n",
        "import pickle\n",
        "import re\n",
        "import string\n",
        "import emoji\n",
        "import spacy\n",
        "from tqdm import tqdm\n",
        "import matplotlib.pyplot as plt\n",
        "\n",
        "# TensorFlow/Keras\n",
        "import tensorflow as tf\n",
        "from tensorflow.keras.models import Sequential, load_model\n",
        "from tensorflow.keras.layers import Embedding, LSTM, Dense, Dropout\n",
        "from tensorflow.keras.callbacks import EarlyStopping, ModelCheckpoint\n",
        "from tensorflow.keras.preprocessing.text import Tokenizer\n",
        "from tensorflow.keras.preprocessing.sequence import pad_sequences\n",
        "\n",
        "# Sklearn\n",
        "from sklearn.model_selection import train_test_split\n",
        "from sklearn.metrics import classification_report, roc_auc_score, accuracy_score\n",
        "\n",
        "# Kaggle\n",
        "import kagglehub"
      ],
      "metadata": {
        "id": "J63CzjsPKDuo"
      },
      "execution_count": 2,
      "outputs": []
    },
    {
      "cell_type": "code",
      "source": [
        "print(\"All packages imported successfully!\")\n",
        "print(f\"TensorFlow version: {tf.__version__}\")"
      ],
      "metadata": {
        "colab": {
          "base_uri": "https://localhost:8080/"
        },
        "id": "wFofRxDuKFrv",
        "outputId": "2daaaf1b-1f96-446d-d1f3-39f92924e70a"
      },
      "execution_count": 3,
      "outputs": [
        {
          "output_type": "stream",
          "name": "stdout",
          "text": [
            "All packages imported successfully!\n",
            "TensorFlow version: 2.18.0\n"
          ]
        }
      ]
    },
    {
      "cell_type": "code",
      "source": [
        "\n",
        "# Constants\n",
        "MAX_LEN = 150\n",
        "VOCAB_SIZE = 20000\n",
        "LABEL_COLS = [\"toxic\", \"severe_toxic\", \"obscene\", \"threat\", \"insult\", \"identity_hate\"]\n",
        "\n",
        "# Slang dictionary\n",
        "SLANG_DICT = {\n",
        "    # Common informal\n",
        "    \"u\": \"you\", \"ur\": \"your\", \"r\": \"are\", \"ya\": \"you\", \"gonna\": \"going_to\",\n",
        "    \"wanna\": \"want_to\", \"gotta\": \"got_to\", \"lemme\": \"let_me\", \"kinda\": \"kind_of\",\n",
        "    \"ain't\": \"is_not\", \"y'all\": \"you_all\", \"nah\": \"no\", \"thx\": \"thanks\",\n",
        "    \"pls\": \"please\", \"plz\": \"please\",\n",
        "\n",
        "    # Emotions/reactions\n",
        "    \"lol\": \"laugh\", \"lmao\": \"laugh\", \"rofl\": \"laugh\", \"omg\": \"oh_my_god\",\n",
        "    \"wtf\": \"what_the_fuck\", \"smh\": \"shaking_my_head\", \"tbh\": \"to_be_honest\",\n",
        "    \"idk\": \"i_do_not_know\", \"ikr\": \"i_know_right\", \"bruh\": \"bro\", \"af\": \"very\",\n",
        "    \"fml\": \"fuck_my_life\", \"ffs\": \"for_fucks_sake\",\n",
        "\n",
        "    # Toxic/hateful\n",
        "    \"fu\": \"fuck_you\", \"fck\": \"fuck\", \"f*ck\": \"fuck\", \"f---\": \"fuck\",\n",
        "    \"stfu\": \"shut_the_fuck_up\", \"kys\": \"kill_yourself\", \"bitch\": \"bitch\",\n",
        "    \"biatch\": \"bitch\", \"a**hole\": \"asshole\", \"d*ck\": \"dick\", \"nigga\": \"nigger\",\n",
        "    \"n1gga\": \"nigger\", \"ni99a\": \"nigger\", \"retard\": \"retard\", \"r3tard\": \"retard\",\n",
        "    \"re**rd\": \"retard\", \"sucka\": \"sucker\",\n",
        "\n",
        "    # Abbreviated hate\n",
        "    \"h8\": \"hate\", \"h8r\": \"hater\", \"killurself\": \"kill_yourself\", \"go2hell\": \"go_to_hell\",\n",
        "    \"gtfo\": \"get_the_fuck_out\", \"gtf\": \"get_the_fuck_out\", \"die\": \"die\",\n",
        "    \"idiot\": \"idiot\", \"moron\": \"moron\", \"loser\": \"loser\",\n",
        "\n",
        "    # Mocking\n",
        "    \"lulz\": \"laugh\", \"noob\": \"novice\", \"n00b\": \"novice\", \"scrub\": \"bad_player\",\n",
        "    \"simp\": \"obsessed_fan\", \"trash\": \"trash\", \"cringe\": \"cringe\",\n",
        "\n",
        "    # Threats\n",
        "    \"bomb\": \"bomb\", \"shoot\": \"shoot\", \"stab\": \"stab\", \"burn\": \"burn\", \"rape\": \"rape\"\n",
        "}\n",
        "\n",
        "# Emoji dictionary\n",
        "EMOJI_KEEP_DICT = {\n",
        "    \"☠\": \"skull\", \"😂\": \"laugh\", \"⚔\": \"violence\",\n",
        "    \"😜\": \"sarcasm_face\", \"😉\": \"wink\"\n",
        "}\n",
        "\n",
        "# Important stopwords to keep\n",
        "IMPORTANT_STOPWORDS = {\"not\", \"no\", \"never\", \"n't\"}\n",
        "\n",
        "print(\"Configuration set up successfully!\")"
      ],
      "metadata": {
        "colab": {
          "base_uri": "https://localhost:8080/"
        },
        "id": "f478dJKBKIle",
        "outputId": "9eddb15d-737d-45c9-bbee-ec48cd1845bf"
      },
      "execution_count": 4,
      "outputs": [
        {
          "output_type": "stream",
          "name": "stdout",
          "text": [
            "Configuration set up successfully!\n"
          ]
        }
      ]
    },
    {
      "cell_type": "code",
      "source": [
        "try:\n",
        "    nlp = spacy.load(\"en_core_web_sm\")\n",
        "    print(\"spaCy model loaded successfully!\")\n",
        "except OSError:\n",
        "    print(\"spaCy model not found. Installing...\")\n",
        "    !python -m spacy download en_core_web_sm\n",
        "    nlp = spacy.load(\"en_core_web_sm\")\n"
      ],
      "metadata": {
        "colab": {
          "base_uri": "https://localhost:8080/"
        },
        "id": "Ybk6E6HTKLTV",
        "outputId": "d2ca9185-9167-4c94-d069-0022ced03f08"
      },
      "execution_count": 5,
      "outputs": [
        {
          "output_type": "stream",
          "name": "stdout",
          "text": [
            "spaCy model loaded successfully!\n"
          ]
        }
      ]
    },
    {
      "cell_type": "code",
      "source": [
        "def replace_slang(text, slang_map=SLANG_DICT):\n",
        "    \"\"\"Replace slang words with their full forms.\"\"\"\n",
        "    for slang, correct in slang_map.items():\n",
        "        text = re.sub(r'\\b' + re.escape(slang) + r'\\b', correct, text)\n",
        "    return text\n",
        "\n",
        "def smart_emoji_handler(text, emoji_keep_dict=EMOJI_KEEP_DICT):\n",
        "    \"\"\"Handle emojis by converting important ones to text.\"\"\"\n",
        "    cleaned = ''\n",
        "    for char in text:\n",
        "        if char in emoji_keep_dict:\n",
        "            cleaned += ' ' + emoji_keep_dict[char] + ' '\n",
        "        elif char in emoji.EMOJI_DATA:\n",
        "            continue\n",
        "        else:\n",
        "            cleaned += char\n",
        "    return re.sub(r'\\s+', ' ', cleaned).strip()\n",
        "\n",
        "def preprocessing_text(text):\n",
        "    \"\"\"Main preprocessing function.\"\"\"\n",
        "    # Convert emojis\n",
        "    text = smart_emoji_handler(text)\n",
        "\n",
        "    # Lowercase\n",
        "    text = text.lower()\n",
        "\n",
        "    # Remove URLs and HTML\n",
        "    text = re.sub(r\"http\\S+|www\\S+|https\\S+\", '', text)\n",
        "\n",
        "    # Remove mentions and hashtags\n",
        "    text = re.sub(r'@\\w+|#\\w+', '', text)\n",
        "\n",
        "    # Remove wiki formatting\n",
        "    text = re.sub(r'\\{\\{.*?}}', '', text)\n",
        "    text = re.sub(r'\\[\\[.*?]]', '', text)\n",
        "\n",
        "    # Replace slang\n",
        "    text = replace_slang(text, SLANG_DICT)\n",
        "\n",
        "    # Remove punctuation\n",
        "    text = text.translate(str.maketrans('', '', string.punctuation))\n",
        "\n",
        "    # Keep only letters and some punctuation\n",
        "    text = re.sub(r'[^a-zA-Z\\s!?]', '', text)\n",
        "\n",
        "    # Remove extra spaces\n",
        "    text = re.sub(r'\\s+', ' ', text).strip()\n",
        "\n",
        "    # spaCy processing\n",
        "    if nlp is not None:\n",
        "        doc = nlp(text)\n",
        "        tokens = []\n",
        "\n",
        "        for token in doc:\n",
        "            word = token.text.lower()\n",
        "            if word in IMPORTANT_STOPWORDS or (not token.is_stop and len(word) > 2):\n",
        "                tokens.append(token.lemma_)\n",
        "\n",
        "        return \" \".join(tokens)\n",
        "    else:\n",
        "        words = text.split()\n",
        "        return \" \".join([word for word in words if len(word) > 2])\n",
        "\n",
        "def create_tokenizer(texts, vocab_size=VOCAB_SIZE):\n",
        "    \"\"\"Create and fit a tokenizer.\"\"\"\n",
        "    tokenizer = Tokenizer(num_words=vocab_size, oov_token=\"<OOV>\")\n",
        "    tokenizer.fit_on_texts(texts)\n",
        "    return tokenizer\n",
        "\n",
        "def texts_to_sequences(texts, tokenizer, max_len=MAX_LEN):\n",
        "    \"\"\"Convert texts to padded sequences.\"\"\"\n",
        "    sequences = tokenizer.texts_to_sequences(texts)\n",
        "    return pad_sequences(sequences, maxlen=max_len, padding='post', truncating='post')\n",
        "\n",
        "print(\"Preprocessing functions defined successfully!\")"
      ],
      "metadata": {
        "colab": {
          "base_uri": "https://localhost:8080/"
        },
        "id": "mQQb6pNqKOwa",
        "outputId": "52891275-f148-4ae1-caf5-8a85fcae2972"
      },
      "execution_count": 6,
      "outputs": [
        {
          "output_type": "stream",
          "name": "stdout",
          "text": [
            "Preprocessing functions defined successfully!\n"
          ]
        }
      ]
    },
    {
      "cell_type": "code",
      "source": [
        "print(\"Downloading Kaggle dataset...\")\n",
        "try:\n",
        "    path = kagglehub.dataset_download(\"julian3833/jigsaw-toxic-comment-classification-challenge\")\n",
        "    print(f\"Dataset downloaded to: {path}\")\n",
        "except Exception as e:\n",
        "    print(f\"Error downloading dataset: {e}\")\n",
        "    print(\"Please upload the dataset manually or check your Kaggle API setup\")\n",
        "\n",
        "# Load the data\n",
        "print(\"Loading data...\")\n",
        "try:\n",
        "    train_df = pd.read_csv(f\"{path}/train.csv\")\n",
        "    test_df = pd.read_csv(f\"{path}/test.csv\")\n",
        "\n",
        "    print(f\"Training data shape: {train_df.shape}\")\n",
        "    print(f\"Test data shape: {test_df.shape}\")\n",
        "    print(f\"Label columns: {LABEL_COLS}\")\n",
        "\n",
        "    # Display label distribution\n",
        "    print(\"\\nLabel distribution:\")\n",
        "    print(train_df[LABEL_COLS].sum().sort_values(ascending=False))\n",
        "\n",
        "    # Show sample data\n",
        "    print(\"\\nSample training data:\")\n",
        "    print(train_df.head())\n",
        "\n",
        "except Exception as e:\n",
        "    print(f\"Error loading data: {e}\")"
      ],
      "metadata": {
        "colab": {
          "base_uri": "https://localhost:8080/"
        },
        "id": "uoCtyTWpKT-Y",
        "outputId": "13dec84e-ed48-4cfd-c848-dffe42686f7e"
      },
      "execution_count": 7,
      "outputs": [
        {
          "output_type": "stream",
          "name": "stdout",
          "text": [
            "Downloading Kaggle dataset...\n",
            "Downloading from https://www.kaggle.com/api/v1/datasets/download/julian3833/jigsaw-toxic-comment-classification-challenge?dataset_version_number=1...\n"
          ]
        },
        {
          "output_type": "stream",
          "name": "stderr",
          "text": [
            "100%|██████████| 53.4M/53.4M [00:00<00:00, 107MB/s]"
          ]
        },
        {
          "output_type": "stream",
          "name": "stdout",
          "text": [
            "Extracting files...\n"
          ]
        },
        {
          "output_type": "stream",
          "name": "stderr",
          "text": [
            "\n"
          ]
        },
        {
          "output_type": "stream",
          "name": "stdout",
          "text": [
            "Dataset downloaded to: /root/.cache/kagglehub/datasets/julian3833/jigsaw-toxic-comment-classification-challenge/versions/1\n",
            "Loading data...\n",
            "Training data shape: (159571, 8)\n",
            "Test data shape: (153164, 2)\n",
            "Label columns: ['toxic', 'severe_toxic', 'obscene', 'threat', 'insult', 'identity_hate']\n",
            "\n",
            "Label distribution:\n",
            "toxic            15294\n",
            "obscene           8449\n",
            "insult            7877\n",
            "severe_toxic      1595\n",
            "identity_hate     1405\n",
            "threat             478\n",
            "dtype: int64\n",
            "\n",
            "Sample training data:\n",
            "                 id                                       comment_text  toxic  \\\n",
            "0  0000997932d777bf  Explanation\\nWhy the edits made under my usern...      0   \n",
            "1  000103f0d9cfb60f  D'aww! He matches this background colour I'm s...      0   \n",
            "2  000113f07ec002fd  Hey man, I'm really not trying to edit war. It...      0   \n",
            "3  0001b41b1c6bb37e  \"\\nMore\\nI can't make any real suggestions on ...      0   \n",
            "4  0001d958c54c6e35  You, sir, are my hero. Any chance you remember...      0   \n",
            "\n",
            "   severe_toxic  obscene  threat  insult  identity_hate  \n",
            "0             0        0       0       0              0  \n",
            "1             0        0       0       0              0  \n",
            "2             0        0       0       0              0  \n",
            "3             0        0       0       0              0  \n",
            "4             0        0       0       0              0  \n"
          ]
        }
      ]
    },
    {
      "cell_type": "code",
      "source": [
        "\n",
        "print(\"Preprocessing training data...\")\n",
        "tqdm.pandas()\n",
        "\n",
        "# Sample a subset for faster training (optional - remove if you want full dataset)\n",
        "# train_df = train_df.sample(n=50000, random_state=42)  # Uncomment for faster training\n",
        "\n",
        "# Preprocess training data\n",
        "train_df['clean_text'] = train_df['comment_text'].progress_apply(preprocessing_text)\n",
        "\n",
        "print(\"Preprocessing test data...\")\n",
        "test_df['clean_text'] = test_df['comment_text'].progress_apply(preprocessing_text)\n",
        "\n",
        "# Show preprocessing results\n",
        "print(\"\\nPreprocessing examples:\")\n",
        "for i in range(3):\n",
        "    print(f\"\\nOriginal: {train_df['comment_text'].iloc[i]}\")\n",
        "    print(f\"Cleaned:  {train_df['clean_text'].iloc[i]}\")\n",
        "\n",
        "print(\"Data preprocessing completed!\")\n"
      ],
      "metadata": {
        "colab": {
          "base_uri": "https://localhost:8080/"
        },
        "id": "OqN7GlWiKZ4L",
        "outputId": "d4aa4ce8-d1c6-4ed5-ff55-f84bf175de67"
      },
      "execution_count": 9,
      "outputs": [
        {
          "output_type": "stream",
          "name": "stdout",
          "text": [
            "Preprocessing training data...\n"
          ]
        },
        {
          "output_type": "stream",
          "name": "stderr",
          "text": [
            "100%|██████████| 159571/159571 [55:20<00:00, 48.06it/s]\n"
          ]
        },
        {
          "output_type": "stream",
          "name": "stdout",
          "text": [
            "Preprocessing test data...\n"
          ]
        },
        {
          "output_type": "stream",
          "name": "stderr",
          "text": [
            "100%|██████████| 153164/153164 [48:22<00:00, 52.78it/s]"
          ]
        },
        {
          "output_type": "stream",
          "name": "stdout",
          "text": [
            "\n",
            "Preprocessing examples:\n",
            "\n",
            "Original: Explanation\n",
            "Why the edits made under my username Hardcore Metallica Fan were reverted? They weren't vandalisms, just closure on some GAs after I voted at New York Dolls FAC. And please don't remove the template from the talk page since I'm retired now.89.205.38.27\n",
            "Cleaned:  explanation edit username hardcore metallica fan revert vandalism closure gas vote new york doll fac remove template talk page retire\n",
            "\n",
            "Original: D'aww! He matches this background colour I'm seemingly stuck with. Thanks.  (talk) 21:51, January 11, 2016 (UTC)\n",
            "Cleaned:  daww match background colour seemingly stick thank talk january utc\n",
            "\n",
            "Original: Hey man, I'm really not trying to edit war. It's just that this guy is constantly removing relevant information and talking to me through edits instead of my talk page. He seems to care more about the formatting than the actual info.\n",
            "Cleaned:  hey man not try edit war guy constantly remove relevant information talk edit instead talk page care formatting actual info\n",
            "Data preprocessing completed!\n"
          ]
        },
        {
          "output_type": "stream",
          "name": "stderr",
          "text": [
            "\n"
          ]
        }
      ]
    },
    {
      "cell_type": "code",
      "source": [
        "# Save cleaned training data\n",
        "train_df.to_csv(\"train_cleaned.csv\", index=False)\n",
        "\n",
        "# Save cleaned test data\n",
        "test_df.to_csv(\"test_cleaned.csv\", index=False)\n",
        "\n",
        "print(\"✅ Cleaned files saved to 'data/train_cleaned.csv' and 'data/test_cleaned.csv'\")"
      ],
      "metadata": {
        "colab": {
          "base_uri": "https://localhost:8080/"
        },
        "id": "N8iZ6Yy5Lju7",
        "outputId": "544f3fea-b97b-4a06-a113-54891da7fcde"
      },
      "execution_count": 11,
      "outputs": [
        {
          "output_type": "stream",
          "name": "stdout",
          "text": [
            "✅ Cleaned files saved to 'data/train_cleaned.csv' and 'data/test_cleaned.csv'\n"
          ]
        }
      ]
    },
    {
      "cell_type": "code",
      "source": [
        "print(\"Creating tokenizer...\")\n",
        "tokenizer = create_tokenizer(train_df['clean_text'])\n",
        "print(f\"Tokenizer vocabulary size: {len(tokenizer.word_index)}\")\n"
      ],
      "metadata": {
        "colab": {
          "base_uri": "https://localhost:8080/"
        },
        "id": "ooFL284zKbUn",
        "outputId": "07e937fc-ead2-4077-f487-ae0bf7a1a5d5"
      },
      "execution_count": 12,
      "outputs": [
        {
          "output_type": "stream",
          "name": "stdout",
          "text": [
            "Creating tokenizer...\n",
            "Tokenizer vocabulary size: 195593\n"
          ]
        }
      ]
    },
    {
      "cell_type": "code",
      "source": [
        "# Convert to sequences\n",
        "print(\"Converting texts to sequences...\")\n",
        "X_train = texts_to_sequences(train_df['clean_text'], tokenizer)\n",
        "X_test = texts_to_sequences(test_df['clean_text'], tokenizer)\n",
        "\n",
        "# Prepare labels\n",
        "y_train = train_df[LABEL_COLS].values\n",
        "\n",
        "print(f\"Training sequences shape: {X_train.shape}\")\n",
        "print(f\"Test sequences shape: {X_test.shape}\")\n",
        "print(f\"Training labels shape: {y_train.shape}\")\n"
      ],
      "metadata": {
        "colab": {
          "base_uri": "https://localhost:8080/"
        },
        "id": "dX1WXMLgKeAS",
        "outputId": "52731f6e-788f-4f87-f358-3e816d90eb49"
      },
      "execution_count": 13,
      "outputs": [
        {
          "output_type": "stream",
          "name": "stdout",
          "text": [
            "Converting texts to sequences...\n",
            "Training sequences shape: (159571, 150)\n",
            "Test sequences shape: (153164, 150)\n",
            "Training labels shape: (159571, 6)\n"
          ]
        }
      ]
    },
    {
      "cell_type": "code",
      "source": [
        "\n",
        "def build_lstm_model(vocab_size=VOCAB_SIZE, max_len=MAX_LEN, embedding_dim=128, lstm_units=64):\n",
        "    \"\"\"Build LSTM model for toxic comment classification.\"\"\"\n",
        "    model = Sequential([\n",
        "        Embedding(vocab_size, embedding_dim, input_length=max_len),\n",
        "        LSTM(lstm_units, return_sequences=False),\n",
        "        Dropout(0.5),\n",
        "        Dense(len(LABEL_COLS), activation='sigmoid')  # Multi-label classification\n",
        "    ])\n",
        "\n",
        "    model.compile(\n",
        "        loss='binary_crossentropy',\n",
        "        optimizer='adam',\n",
        "        metrics=['accuracy']\n",
        "    )\n",
        "\n",
        "    return model\n",
        "\n",
        "# Build the model\n",
        "print(\"Building model...\")\n",
        "model = build_lstm_model()\n",
        "print(model.summary())"
      ],
      "metadata": {
        "colab": {
          "base_uri": "https://localhost:8080/",
          "height": 346
        },
        "id": "0F1c5YzoKf5m",
        "outputId": "8ba320c0-39e0-4f40-ddf6-3006a0a9f95b"
      },
      "execution_count": 16,
      "outputs": [
        {
          "output_type": "stream",
          "name": "stdout",
          "text": [
            "Building model...\n"
          ]
        },
        {
          "output_type": "stream",
          "name": "stderr",
          "text": [
            "/usr/local/lib/python3.11/dist-packages/keras/src/layers/core/embedding.py:90: UserWarning: Argument `input_length` is deprecated. Just remove it.\n",
            "  warnings.warn(\n"
          ]
        },
        {
          "output_type": "display_data",
          "data": {
            "text/plain": [
              "\u001b[1mModel: \"sequential\"\u001b[0m\n"
            ],
            "text/html": [
              "<pre style=\"white-space:pre;overflow-x:auto;line-height:normal;font-family:Menlo,'DejaVu Sans Mono',consolas,'Courier New',monospace\"><span style=\"font-weight: bold\">Model: \"sequential\"</span>\n",
              "</pre>\n"
            ]
          },
          "metadata": {}
        },
        {
          "output_type": "display_data",
          "data": {
            "text/plain": [
              "┏━━━━━━━━━━━━━━━━━━━━━━━━━━━━━━━━━┳━━━━━━━━━━━━━━━━━━━━━━━━┳━━━━━━━━━━━━━━━┓\n",
              "┃\u001b[1m \u001b[0m\u001b[1mLayer (type)                   \u001b[0m\u001b[1m \u001b[0m┃\u001b[1m \u001b[0m\u001b[1mOutput Shape          \u001b[0m\u001b[1m \u001b[0m┃\u001b[1m \u001b[0m\u001b[1m      Param #\u001b[0m\u001b[1m \u001b[0m┃\n",
              "┡━━━━━━━━━━━━━━━━━━━━━━━━━━━━━━━━━╇━━━━━━━━━━━━━━━━━━━━━━━━╇━━━━━━━━━━━━━━━┩\n",
              "│ embedding (\u001b[38;5;33mEmbedding\u001b[0m)           │ ?                      │   \u001b[38;5;34m0\u001b[0m (unbuilt) │\n",
              "├─────────────────────────────────┼────────────────────────┼───────────────┤\n",
              "│ lstm (\u001b[38;5;33mLSTM\u001b[0m)                     │ ?                      │   \u001b[38;5;34m0\u001b[0m (unbuilt) │\n",
              "├─────────────────────────────────┼────────────────────────┼───────────────┤\n",
              "│ dropout (\u001b[38;5;33mDropout\u001b[0m)               │ ?                      │             \u001b[38;5;34m0\u001b[0m │\n",
              "├─────────────────────────────────┼────────────────────────┼───────────────┤\n",
              "│ dense (\u001b[38;5;33mDense\u001b[0m)                   │ ?                      │   \u001b[38;5;34m0\u001b[0m (unbuilt) │\n",
              "└─────────────────────────────────┴────────────────────────┴───────────────┘\n"
            ],
            "text/html": [
              "<pre style=\"white-space:pre;overflow-x:auto;line-height:normal;font-family:Menlo,'DejaVu Sans Mono',consolas,'Courier New',monospace\">┏━━━━━━━━━━━━━━━━━━━━━━━━━━━━━━━━━┳━━━━━━━━━━━━━━━━━━━━━━━━┳━━━━━━━━━━━━━━━┓\n",
              "┃<span style=\"font-weight: bold\"> Layer (type)                    </span>┃<span style=\"font-weight: bold\"> Output Shape           </span>┃<span style=\"font-weight: bold\">       Param # </span>┃\n",
              "┡━━━━━━━━━━━━━━━━━━━━━━━━━━━━━━━━━╇━━━━━━━━━━━━━━━━━━━━━━━━╇━━━━━━━━━━━━━━━┩\n",
              "│ embedding (<span style=\"color: #0087ff; text-decoration-color: #0087ff\">Embedding</span>)           │ ?                      │   <span style=\"color: #00af00; text-decoration-color: #00af00\">0</span> (unbuilt) │\n",
              "├─────────────────────────────────┼────────────────────────┼───────────────┤\n",
              "│ lstm (<span style=\"color: #0087ff; text-decoration-color: #0087ff\">LSTM</span>)                     │ ?                      │   <span style=\"color: #00af00; text-decoration-color: #00af00\">0</span> (unbuilt) │\n",
              "├─────────────────────────────────┼────────────────────────┼───────────────┤\n",
              "│ dropout (<span style=\"color: #0087ff; text-decoration-color: #0087ff\">Dropout</span>)               │ ?                      │             <span style=\"color: #00af00; text-decoration-color: #00af00\">0</span> │\n",
              "├─────────────────────────────────┼────────────────────────┼───────────────┤\n",
              "│ dense (<span style=\"color: #0087ff; text-decoration-color: #0087ff\">Dense</span>)                   │ ?                      │   <span style=\"color: #00af00; text-decoration-color: #00af00\">0</span> (unbuilt) │\n",
              "└─────────────────────────────────┴────────────────────────┴───────────────┘\n",
              "</pre>\n"
            ]
          },
          "metadata": {}
        },
        {
          "output_type": "display_data",
          "data": {
            "text/plain": [
              "\u001b[1m Total params: \u001b[0m\u001b[38;5;34m0\u001b[0m (0.00 B)\n"
            ],
            "text/html": [
              "<pre style=\"white-space:pre;overflow-x:auto;line-height:normal;font-family:Menlo,'DejaVu Sans Mono',consolas,'Courier New',monospace\"><span style=\"font-weight: bold\"> Total params: </span><span style=\"color: #00af00; text-decoration-color: #00af00\">0</span> (0.00 B)\n",
              "</pre>\n"
            ]
          },
          "metadata": {}
        },
        {
          "output_type": "display_data",
          "data": {
            "text/plain": [
              "\u001b[1m Trainable params: \u001b[0m\u001b[38;5;34m0\u001b[0m (0.00 B)\n"
            ],
            "text/html": [
              "<pre style=\"white-space:pre;overflow-x:auto;line-height:normal;font-family:Menlo,'DejaVu Sans Mono',consolas,'Courier New',monospace\"><span style=\"font-weight: bold\"> Trainable params: </span><span style=\"color: #00af00; text-decoration-color: #00af00\">0</span> (0.00 B)\n",
              "</pre>\n"
            ]
          },
          "metadata": {}
        },
        {
          "output_type": "display_data",
          "data": {
            "text/plain": [
              "\u001b[1m Non-trainable params: \u001b[0m\u001b[38;5;34m0\u001b[0m (0.00 B)\n"
            ],
            "text/html": [
              "<pre style=\"white-space:pre;overflow-x:auto;line-height:normal;font-family:Menlo,'DejaVu Sans Mono',consolas,'Courier New',monospace\"><span style=\"font-weight: bold\"> Non-trainable params: </span><span style=\"color: #00af00; text-decoration-color: #00af00\">0</span> (0.00 B)\n",
              "</pre>\n"
            ]
          },
          "metadata": {}
        },
        {
          "output_type": "stream",
          "name": "stdout",
          "text": [
            "None\n"
          ]
        }
      ]
    },
    {
      "cell_type": "code",
      "source": [
        "\n",
        "X_train_part, X_val, y_train_part, y_val = train_test_split(\n",
        "    X_train, y_train, test_size=0.1, random_state=42\n",
        ")\n",
        "\n",
        "print(f\"Training set shape: {X_train_part.shape}\")\n",
        "print(f\"Validation set shape: {X_val.shape}\")\n",
        "\n",
        "# Set up callbacks\n",
        "callbacks = [\n",
        "    EarlyStopping(\n",
        "        monitor='val_loss',\n",
        "        patience=2,\n",
        "        restore_best_weights=True,\n",
        "        verbose=1\n",
        "    ),\n",
        "    ModelCheckpoint(\n",
        "        'toxic_lstm_model.h5',\n",
        "        monitor='val_loss',\n",
        "        save_best_only=True,\n",
        "        verbose=1\n",
        "    )\n",
        "]\n",
        "\n",
        "# Train the model\n",
        "print(\"Training model...\")\n",
        "history = model.fit(\n",
        "    X_train_part, y_train_part,\n",
        "    validation_data=(X_val, y_val),\n",
        "    epochs=4,\n",
        "    batch_size=128,\n",
        "    callbacks=callbacks,\n",
        "    verbose=1\n",
        ")\n",
        "\n",
        "print(\"Training completed!\")"
      ],
      "metadata": {
        "colab": {
          "base_uri": "https://localhost:8080/"
        },
        "id": "AE0ZwitkKjtm",
        "outputId": "6340767f-218c-4604-841b-ac20a8ea8750"
      },
      "execution_count": 17,
      "outputs": [
        {
          "output_type": "stream",
          "name": "stdout",
          "text": [
            "Training set shape: (143613, 150)\n",
            "Validation set shape: (15958, 150)\n",
            "Training model...\n",
            "Epoch 1/4\n",
            "\u001b[1m1122/1122\u001b[0m \u001b[32m━━━━━━━━━━━━━━━━━━━━\u001b[0m\u001b[37m\u001b[0m \u001b[1m0s\u001b[0m 329ms/step - accuracy: 0.6493 - loss: 0.1744\n",
            "Epoch 1: val_loss improved from inf to 0.13832, saving model to toxic_lstm_model.h5\n"
          ]
        },
        {
          "output_type": "stream",
          "name": "stderr",
          "text": [
            "WARNING:absl:You are saving your model as an HDF5 file via `model.save()` or `keras.saving.save_model(model)`. This file format is considered legacy. We recommend using instead the native Keras format, e.g. `model.save('my_model.keras')` or `keras.saving.save_model(model, 'my_model.keras')`. \n"
          ]
        },
        {
          "output_type": "stream",
          "name": "stdout",
          "text": [
            "\b\b\b\b\b\b\b\b\b\b\b\b\b\b\b\b\b\b\b\b\b\b\b\b\b\b\b\b\b\b\b\b\b\b\b\b\b\b\b\b\b\b\b\b\b\b\b\b\b\b\b\b\b\b\b\b\b\b\b\b\b\b\b\b\b\b\b\b\b\b\b\b\b\b\b\b\b\b\r\u001b[1m1122/1122\u001b[0m \u001b[32m━━━━━━━━━━━━━━━━━━━━\u001b[0m\u001b[37m\u001b[0m \u001b[1m394s\u001b[0m 348ms/step - accuracy: 0.6494 - loss: 0.1744 - val_accuracy: 0.9939 - val_loss: 0.1383\n",
            "Epoch 2/4\n",
            "\u001b[1m1122/1122\u001b[0m \u001b[32m━━━━━━━━━━━━━━━━━━━━\u001b[0m\u001b[37m\u001b[0m \u001b[1m0s\u001b[0m 332ms/step - accuracy: 0.9779 - loss: 0.1433\n",
            "Epoch 2: val_loss improved from 0.13832 to 0.08494, saving model to toxic_lstm_model.h5\n"
          ]
        },
        {
          "output_type": "stream",
          "name": "stderr",
          "text": [
            "WARNING:absl:You are saving your model as an HDF5 file via `model.save()` or `keras.saving.save_model(model)`. This file format is considered legacy. We recommend using instead the native Keras format, e.g. `model.save('my_model.keras')` or `keras.saving.save_model(model, 'my_model.keras')`. \n"
          ]
        },
        {
          "output_type": "stream",
          "name": "stdout",
          "text": [
            "\b\b\b\b\b\b\b\b\b\b\b\b\b\b\b\b\b\b\b\b\b\b\b\b\b\b\b\b\b\b\b\b\b\b\b\b\b\b\b\b\b\b\b\b\b\b\b\b\b\b\b\b\b\b\b\b\b\b\b\b\b\b\b\b\b\b\b\b\b\b\b\b\b\b\b\b\b\b\r\u001b[1m1122/1122\u001b[0m \u001b[32m━━━━━━━━━━━━━━━━━━━━\u001b[0m\u001b[37m\u001b[0m \u001b[1m437s\u001b[0m 344ms/step - accuracy: 0.9779 - loss: 0.1433 - val_accuracy: 0.9940 - val_loss: 0.0849\n",
            "Epoch 3/4\n",
            "\u001b[1m1122/1122\u001b[0m \u001b[32m━━━━━━━━━━━━━━━━━━━━\u001b[0m\u001b[37m\u001b[0m \u001b[1m0s\u001b[0m 330ms/step - accuracy: 0.9894 - loss: 0.0752\n",
            "Epoch 3: val_loss improved from 0.08494 to 0.05255, saving model to toxic_lstm_model.h5\n"
          ]
        },
        {
          "output_type": "stream",
          "name": "stderr",
          "text": [
            "WARNING:absl:You are saving your model as an HDF5 file via `model.save()` or `keras.saving.save_model(model)`. This file format is considered legacy. We recommend using instead the native Keras format, e.g. `model.save('my_model.keras')` or `keras.saving.save_model(model, 'my_model.keras')`. \n"
          ]
        },
        {
          "output_type": "stream",
          "name": "stdout",
          "text": [
            "\b\b\b\b\b\b\b\b\b\b\b\b\b\b\b\b\b\b\b\b\b\b\b\b\b\b\b\b\b\b\b\b\b\b\b\b\b\b\b\b\b\b\b\b\b\b\b\b\b\b\b\b\b\b\b\b\b\b\b\b\b\b\b\b\b\b\b\b\b\b\b\b\b\b\b\b\b\b\r\u001b[1m1122/1122\u001b[0m \u001b[32m━━━━━━━━━━━━━━━━━━━━\u001b[0m\u001b[37m\u001b[0m \u001b[1m447s\u001b[0m 348ms/step - accuracy: 0.9894 - loss: 0.0752 - val_accuracy: 0.9940 - val_loss: 0.0525\n",
            "Epoch 4/4\n",
            "\u001b[1m1122/1122\u001b[0m \u001b[32m━━━━━━━━━━━━━━━━━━━━\u001b[0m\u001b[37m\u001b[0m \u001b[1m0s\u001b[0m 329ms/step - accuracy: 0.9923 - loss: 0.0543\n",
            "Epoch 4: val_loss did not improve from 0.05255\n",
            "\u001b[1m1122/1122\u001b[0m \u001b[32m━━━━━━━━━━━━━━━━━━━━\u001b[0m\u001b[37m\u001b[0m \u001b[1m389s\u001b[0m 347ms/step - accuracy: 0.9923 - loss: 0.0543 - val_accuracy: 0.9940 - val_loss: 0.0532\n",
            "Restoring model weights from the end of the best epoch: 3.\n",
            "Training completed!\n"
          ]
        }
      ]
    },
    {
      "cell_type": "code",
      "source": [
        "# Plot training history\n",
        "plt.figure(figsize=(12, 4))\n",
        "\n",
        "plt.subplot(1, 2, 1)\n",
        "plt.plot(history.history['accuracy'], label='Training Accuracy')\n",
        "plt.plot(history.history['val_accuracy'], label='Validation Accuracy')\n",
        "plt.title('Model Accuracy')\n",
        "plt.xlabel('Epoch')\n",
        "plt.ylabel('Accuracy')\n",
        "plt.legend()\n",
        "\n",
        "plt.subplot(1, 2, 2)\n",
        "plt.plot(history.history['loss'], label='Training Loss')\n",
        "plt.plot(history.history['val_loss'], label='Validation Loss')\n",
        "plt.title('Model Loss')\n",
        "plt.xlabel('Epoch')\n",
        "plt.ylabel('Loss')\n",
        "plt.legend()\n",
        "\n",
        "plt.tight_layout()\n",
        "plt.show()\n",
        "\n",
        "# Print final metrics\n",
        "print(f\"Final training accuracy: {history.history['accuracy'][-1]:.4f}\")\n",
        "print(f\"Final validation accuracy: {history.history['val_accuracy'][-1]:.4f}\")"
      ],
      "metadata": {
        "colab": {
          "base_uri": "https://localhost:8080/",
          "height": 326
        },
        "id": "VtSgSiNPKljj",
        "outputId": "c949b0cd-8f4b-40da-aa0a-c5f0505ba606"
      },
      "execution_count": 18,
      "outputs": [
        {
          "output_type": "display_data",
          "data": {
            "text/plain": [
              "<Figure size 1200x400 with 2 Axes>"
            ],
            "image/png": "[encoded data removed]"
          },
          "metadata": {}
        },
        {
          "output_type": "stream",
          "name": "stdout",
          "text": [
            "Final training accuracy: 0.9914\n",
            "Final validation accuracy: 0.9940\n"
          ]
        }
      ]
    },
    {
      "cell_type": "code",
      "source": [
        "print(\"Evaluating model on validation set...\")\n",
        "val_predictions = model.predict(X_val)\n",
        "val_binary_predictions = (val_predictions >= 0.5).astype(int)\n",
        "\n",
        "# Calculate metrics for each label\n",
        "print(\"\\nValidation Results:\")\n",
        "print(\"=\"*50)\n",
        "\n",
        "for i, label in enumerate(LABEL_COLS):\n",
        "    if np.sum(y_val[:, i]) > 0:\n",
        "        auc = roc_auc_score(y_val[:, i], val_predictions[:, i])\n",
        "        accuracy = accuracy_score(y_val[:, i], val_binary_predictions[:, i])\n",
        "\n",
        "        print(f\"{label.upper()}:\")\n",
        "        print(f\"  AUC: {auc:.4f}\")\n",
        "        print(f\"  Accuracy: {accuracy:.4f}\")\n",
        "        print(f\"  Positive examples: {np.sum(y_val[:, i])}\")"
      ],
      "metadata": {
        "colab": {
          "base_uri": "https://localhost:8080/"
        },
        "id": "BazFMVrUKnF_",
        "outputId": "3d05c277-1811-4185-b349-4219ef6d76ac"
      },
      "execution_count": 19,
      "outputs": [
        {
          "output_type": "stream",
          "name": "stdout",
          "text": [
            "Evaluating model on validation set...\n",
            "\u001b[1m499/499\u001b[0m \u001b[32m━━━━━━━━━━━━━━━━━━━━\u001b[0m\u001b[37m\u001b[0m \u001b[1m14s\u001b[0m 27ms/step\n",
            "\n",
            "Validation Results:\n",
            "==================================================\n",
            "TOXIC:\n",
            "  AUC: 0.9675\n",
            "  Accuracy: 0.9613\n",
            "  Positive examples: 1480\n",
            "SEVERE_TOXIC:\n",
            "  AUC: 0.9788\n",
            "  Accuracy: 0.9906\n",
            "  Positive examples: 148\n",
            "OBSCENE:\n",
            "  AUC: 0.9873\n",
            "  Accuracy: 0.9753\n",
            "  Positive examples: 836\n",
            "THREAT:\n",
            "  AUC: 0.9448\n",
            "  Accuracy: 0.9977\n",
            "  Positive examples: 37\n",
            "INSULT:\n",
            "  AUC: 0.9806\n",
            "  Accuracy: 0.9704\n",
            "  Positive examples: 791\n",
            "IDENTITY_HATE:\n",
            "  AUC: 0.9585\n",
            "  Accuracy: 0.9908\n",
            "  Positive examples: 147\n"
          ]
        }
      ]
    },
    {
      "cell_type": "code",
      "execution_count": 20,
      "metadata": {
        "colab": {
          "base_uri": "https://localhost:8080/"
        },
        "id": "hHdOywWeJ5PN",
        "outputId": "818d033a-6dad-4bd8-bede-e654ac53ae22"
      },
      "outputs": [
        {
          "output_type": "stream",
          "name": "stdout",
          "text": [
            "Testing sample comments...\n",
            "\u001b[1m1/1\u001b[0m \u001b[32m━━━━━━━━━━━━━━━━━━━━\u001b[0m\u001b[37m\u001b[0m \u001b[1m0s\u001b[0m 50ms/step\n",
            "\n",
            "Comment: 'I love this product! Absolutely fantastic experience.'\n",
            "Toxic: NO\n",
            "\u001b[1m1/1\u001b[0m \u001b[32m━━━━━━━━━━━━━━━━━━━━\u001b[0m\u001b[37m\u001b[0m \u001b[1m0s\u001b[0m 49ms/step\n",
            "\n",
            "Comment: 'You're a genius, keep up the great work!'\n",
            "Toxic: NO\n",
            "\u001b[1m1/1\u001b[0m \u001b[32m━━━━━━━━━━━━━━━━━━━━\u001b[0m\u001b[37m\u001b[0m \u001b[1m0s\u001b[0m 53ms/step\n",
            "\n",
            "Comment: 'This is the worst service ever, totally disappointed.'\n",
            "Toxic: NO\n",
            "\u001b[1m1/1\u001b[0m \u001b[32m━━━━━━━━━━━━━━━━━━━━\u001b[0m\u001b[37m\u001b[0m \u001b[1m0s\u001b[0m 47ms/step\n",
            "\n",
            "Comment: 'You suck and nobody likes you.'\n",
            "Toxic: YES\n",
            "Labels detected:\n",
            "  - toxic: 0.946\n",
            "  - obscene: 0.787\n",
            "  - insult: 0.675\n",
            "\u001b[1m1/1\u001b[0m \u001b[32m━━━━━━━━━━━━━━━━━━━━\u001b[0m\u001b[37m\u001b[0m \u001b[1m0s\u001b[0m 49ms/step\n",
            "\n",
            "Comment: 'Go to hell, you idiot!'\n",
            "Toxic: YES\n",
            "Labels detected:\n",
            "  - toxic: 0.937\n",
            "  - obscene: 0.758\n",
            "  - insult: 0.643\n",
            "\u001b[1m1/1\u001b[0m \u001b[32m━━━━━━━━━━━━━━━━━━━━\u001b[0m\u001b[37m\u001b[0m \u001b[1m0s\u001b[0m 49ms/step\n",
            "\n",
            "Comment: 'Thank you so much for your support!'\n",
            "Toxic: NO\n",
            "\u001b[1m1/1\u001b[0m \u001b[32m━━━━━━━━━━━━━━━━━━━━\u001b[0m\u001b[37m\u001b[0m \u001b[1m0s\u001b[0m 48ms/step\n",
            "\n",
            "Comment: 'I hate you so much, you stupid moron!'\n",
            "Toxic: YES\n",
            "Labels detected:\n",
            "  - toxic: 0.953\n",
            "  - obscene: 0.809\n",
            "  - insult: 0.700\n",
            "\u001b[1m1/1\u001b[0m \u001b[32m━━━━━━━━━━━━━━━━━━━━\u001b[0m\u001b[37m\u001b[0m \u001b[1m0s\u001b[0m 48ms/step\n",
            "\n",
            "Comment: 'Great job on this project, well done!'\n",
            "Toxic: NO\n"
          ]
        }
      ],
      "source": [
        "\n",
        "def predict_toxicity(model, tokenizer, text, threshold=0.5):\n",
        "    \"\"\"Predict toxicity for a single text.\"\"\"\n",
        "    # Preprocess the text\n",
        "    cleaned_text = preprocessing_text(text)\n",
        "\n",
        "    # Convert to sequence\n",
        "    sequences = tokenizer.texts_to_sequences([cleaned_text])\n",
        "    padded = pad_sequences(sequences, maxlen=MAX_LEN, padding='post', truncating='post')\n",
        "\n",
        "    # Predict\n",
        "    predictions = model.predict(padded)[0]\n",
        "    results = {}\n",
        "    positive_labels = []\n",
        "\n",
        "    for i, label in enumerate(LABEL_COLS):\n",
        "        prob = float(predictions[i])\n",
        "        results[label] = prob\n",
        "\n",
        "        if prob >= threshold:\n",
        "            positive_labels.append((label, prob))\n",
        "\n",
        "    results['positive_labels'] = positive_labels\n",
        "    results['is_toxic'] = len(positive_labels) > 0\n",
        "\n",
        "    return results\n",
        "\n",
        "# Test sample comments\n",
        "print(\"Testing sample comments...\")\n",
        "test_comments = [\n",
        "    \"I love this product! Absolutely fantastic experience.\",\n",
        "    \"You're a genius, keep up the great work!\",\n",
        "    \"This is the worst service ever, totally disappointed.\",\n",
        "    \"You suck and nobody likes you.\",\n",
        "    \"Go to hell, you idiot!\",\n",
        "    \"Thank you so much for your support!\",\n",
        "    \"I hate you so much, you stupid moron!\",\n",
        "    \"Great job on this project, well done!\",\n",
        "]\n",
        "\n",
        "for comment in test_comments:\n",
        "    result = predict_toxicity(model, tokenizer, comment)\n",
        "    print(f\"\\nComment: '{comment}'\")\n",
        "    print(f\"Toxic: {'YES' if result['is_toxic'] else 'NO'}\")\n",
        "\n",
        "    if result['is_toxic']:\n",
        "        print(\"Labels detected:\")\n",
        "        for label, prob in result['positive_labels']:\n",
        "            print(f\"  - {label}: {prob:.3f}\")\n"
      ]
    },
    {
      "cell_type": "code",
      "source": [
        "# Save the tokenizer\n",
        "print(\"Saving tokenizer...\")\n",
        "with open('tokenizer.pkl', 'wb') as f:\n",
        "    pickle.dump(tokenizer, f)\n",
        "\n",
        "print(\"Model and tokenizer saved successfully!\")\n",
        "print(\"Files created:\")\n",
        "print(\"- toxic_lstm_model.h5 (trained model)\")\n",
        "print(\"- tokenizer.pkl (fitted tokenizer)\")"
      ],
      "metadata": {
        "colab": {
          "base_uri": "https://localhost:8080/"
        },
        "id": "TJTaGKYvKsDT",
        "outputId": "f8dcfd58-2f1f-4f9e-b288-e031b3d02ea5"
      },
      "execution_count": 21,
      "outputs": [
        {
          "output_type": "stream",
          "name": "stdout",
          "text": [
            "Saving tokenizer...\n",
            "Model and tokenizer saved successfully!\n",
            "Files created:\n",
            "- toxic_lstm_model.h5 (trained model)\n",
            "- tokenizer.pkl (fitted tokenizer)\n"
          ]
        }
      ]
    },
    {
      "cell_type": "code",
      "source": [
        "from google.colab import files\n",
        "\n",
        "print(\"Downloading model files...\")\n",
        "files.download('toxic_lstm_model.h5')\n",
        "files.download('tokenizer.pkl')\n",
        "\n",
        "print(\"Files downloaded successfully!\")\n",
        "print(\"You can now use these files in your local environment.\")"
      ],
      "metadata": {
        "colab": {
          "base_uri": "https://localhost:8080/",
          "height": 69
        },
        "id": "u-l82Y4TKuzM",
        "outputId": "dabc1ca6-e2ce-4f71-be3a-86e5c92f6a5b"
      },
      "execution_count": 22,
      "outputs": [
        {
          "output_type": "stream",
          "name": "stdout",
          "text": [
            "Downloading model files...\n"
          ]
        },
        {
          "output_type": "display_data",
          "data": {
            "text/plain": [
              "<IPython.core.display.Javascript object>"
            ],
            "application/javascript": [
              "\n",
              "    async function download(id, filename, size) {\n",
              "      if (!google.colab.kernel.accessAllowed) {\n",
              "        return;\n",
              "      }\n",
              "      const div = document.createElement('div');\n",
              "      const label = document.createElement('label');\n",
              "      label.textContent = `Downloading \"${filename}\": `;\n",
              "      div.appendChild(label);\n",
              "      const progress = document.createElement('progress');\n",
              "      progress.max = size;\n",
              "      div.appendChild(progress);\n",
              "      document.body.appendChild(div);\n",
              "\n",
              "      const buffers = [];\n",
              "      let downloaded = 0;\n",
              "\n",
              "      const channel = await google.colab.kernel.comms.open(id);\n",
              "      // Send a message to notify the kernel that we're ready.\n",
              "      channel.send({})\n",
              "\n",
              "      for await (const message of channel.messages) {\n",
              "        // Send a message to notify the kernel that we're ready.\n",
              "        channel.send({})\n",
              "        if (message.buffers) {\n",
              "          for (const buffer of message.buffers) {\n",
              "            buffers.push(buffer);\n",
              "            downloaded += buffer.byteLength;\n",
              "            progress.value = downloaded;\n",
              "          }\n",
              "        }\n",
              "      }\n",
              "      const blob = new Blob(buffers, {type: 'application/binary'});\n",
              "      const a = document.createElement('a');\n",
              "      a.href = window.URL.createObjectURL(blob);\n",
              "      a.download = filename;\n",
              "      div.appendChild(a);\n",
              "      a.click();\n",
              "      div.remove();\n",
              "    }\n",
              "  "
            ]
          },
          "metadata": {}
        },
        {
          "output_type": "display_data",
          "data": {
            "text/plain": [
              "<IPython.core.display.Javascript object>"
            ],
            "application/javascript": [
              "download(\"download_8eb2fc40-d470-4403-9312-14c678480fc6\", \"toxic_lstm_model.h5\", 31352936)"
            ]
          },
          "metadata": {}
        },
        {
          "output_type": "display_data",
          "data": {
            "text/plain": [
              "<IPython.core.display.Javascript object>"
            ],
            "application/javascript": [
              "\n",
              "    async function download(id, filename, size) {\n",
              "      if (!google.colab.kernel.accessAllowed) {\n",
              "        return;\n",
              "      }\n",
              "      const div = document.createElement('div');\n",
              "      const label = document.createElement('label');\n",
              "      label.textContent = `Downloading \"${filename}\": `;\n",
              "      div.appendChild(label);\n",
              "      const progress = document.createElement('progress');\n",
              "      progress.max = size;\n",
              "      div.appendChild(progress);\n",
              "      document.body.appendChild(div);\n",
              "\n",
              "      const buffers = [];\n",
              "      let downloaded = 0;\n",
              "\n",
              "      const channel = await google.colab.kernel.comms.open(id);\n",
              "      // Send a message to notify the kernel that we're ready.\n",
              "      channel.send({})\n",
              "\n",
              "      for await (const message of channel.messages) {\n",
              "        // Send a message to notify the kernel that we're ready.\n",
              "        channel.send({})\n",
              "        if (message.buffers) {\n",
              "          for (const buffer of message.buffers) {\n",
              "            buffers.push(buffer);\n",
              "            downloaded += buffer.byteLength;\n",
              "            progress.value = downloaded;\n",
              "          }\n",
              "        }\n",
              "      }\n",
              "      const blob = new Blob(buffers, {type: 'application/binary'});\n",
              "      const a = document.createElement('a');\n",
              "      a.href = window.URL.createObjectURL(blob);\n",
              "      a.download = filename;\n",
              "      div.appendChild(a);\n",
              "      a.click();\n",
              "      div.remove();\n",
              "    }\n",
              "  "
            ]
          },
          "metadata": {}
        },
        {
          "output_type": "display_data",
          "data": {
            "text/plain": [
              "<IPython.core.display.Javascript object>"
            ],
            "application/javascript": [
              "download(\"download_5c0dc13e-f42d-4fc9-b1fe-f4eed22bd823\", \"tokenizer.pkl\", 9043955)"
            ]
          },
          "metadata": {}
        },
        {
          "output_type": "stream",
          "name": "stdout",
          "text": [
            "Files downloaded successfully!\n",
            "You can now use these files in your local environment.\n"
          ]
        }
      ]
    },
    {
      "cell_type": "code",
      "source": [
        "# Test loading the saved model\n",
        "print(\"Testing saved model...\")\n",
        "loaded_model = load_model('toxic_lstm_model.h5')\n",
        "\n",
        "# Test with a sample comment\n",
        "test_comment = \"This is a test comment\"\n",
        "result = predict_toxicity(loaded_model, tokenizer, test_comment)\n",
        "print(f\"Test prediction for '{test_comment}': {result['is_toxic']}\")\n",
        "\n",
        "print(\"Model loading test successful!\")\n"
      ],
      "metadata": {
        "colab": {
          "base_uri": "https://localhost:8080/"
        },
        "id": "TI0mqOlTKxXf",
        "outputId": "411f1ebd-1169-455b-8248-4b42c88a8823"
      },
      "execution_count": 23,
      "outputs": [
        {
          "output_type": "stream",
          "name": "stderr",
          "text": [
            "WARNING:absl:Compiled the loaded model, but the compiled metrics have yet to be built. `model.compile_metrics` will be empty until you train or evaluate the model.\n"
          ]
        },
        {
          "output_type": "stream",
          "name": "stdout",
          "text": [
            "Testing saved model...\n",
            "\u001b[1m1/1\u001b[0m \u001b[32m━━━━━━━━━━━━━━━━━━━━\u001b[0m\u001b[37m\u001b[0m \u001b[1m0s\u001b[0m 239ms/step\n",
            "Test prediction for 'This is a test comment': False\n",
            "Model loading test successful!\n"
          ]
        }
      ]
    },
    {
      "cell_type": "code",
      "source": [
        "\n",
        "print(\"\\n\" + \"=\"*60)\n",
        "print(\"TRAINING COMPLETED SUCCESSFULLY!\")\n",
        "print(\"=\"*60)\n",
        "print(\"Files created:\")\n",
        "print(\"1. toxic_lstm_model.h5 - Your trained model\")\n",
        "print(\"2. tokenizer.pkl - Fitted tokenizer\")\n",
        "print(\"\\nNext steps:\")\n",
        "print(\"1. Download these files from Colab\")\n",
        "print(\"2. Place them in your local 'models/' directory\")\n",
        "print(\"3. Use the Flask API code to serve predictions\")\n",
        "print(\"=\"*60)"
      ],
      "metadata": {
        "colab": {
          "base_uri": "https://localhost:8080/"
        },
        "id": "C2fBS38fKqjT",
        "outputId": "db257dad-1f83-4d9f-8e33-034125619701"
      },
      "execution_count": 24,
      "outputs": [
        {
          "output_type": "stream",
          "name": "stdout",
          "text": [
            "\n",
            "============================================================\n",
            "TRAINING COMPLETED SUCCESSFULLY!\n",
            "============================================================\n",
            "Files created:\n",
            "1. toxic_lstm_model.h5 - Your trained model\n",
            "2. tokenizer.pkl - Fitted tokenizer\n",
            "\n",
            "Next steps:\n",
            "1. Download these files from Colab\n",
            "2. Place them in your local 'models/' directory\n",
            "3. Use the Flask API code to serve predictions\n",
            "============================================================\n"
          ]
        }
      ]
    },
    {
      "cell_type": "code",
      "source": [
        "model.save(\"model.keras\")\n"
      ],
      "metadata": {
        "id": "oYuYyjq6uQe4"
      },
      "execution_count": 27,
      "outputs": []
    },
    {
      "cell_type": "code",
      "source": [],
      "metadata": {
        "id": "EgfbUqxPubd2"
      },
      "execution_count": null,
      "outputs": []
    }
  ]
}